{
 "cells": [
  {
   "cell_type": "code",
   "execution_count": null,
   "metadata": {},
   "outputs": [],
   "source": [
    "from PIL import Image\n",
    "import glob\n",
    "import os\n",
    "import pytesseract\n",
    "\n",
    "folder = './Ravi_data/'\n",
    "file_types = ['*.jpg', '*.bmp', '*.jpeg', '*.gif', '*.img', '*.png']\n",
    "file_types.extend([str.upper(x) for x in file_types])\n",
    "\n",
    "list_of_files = []\n",
    "\n",
    "for file_type in file_types:\n",
    "    list_of_files.extend(glob.glob(os.path.join(os.path.abspath(folder), file_type)))\n",
    "    \n",
    "for path in list_of_files:\n",
    "    print(path)\n",
    "    #if os.path.exists(out_path): continue\n",
    "    try:\n",
    "        im = Image.open(path)\n",
    "        text = pytesseract.image_to_string(im, lang = 'eng')\n",
    "        print(\"**\"+text)\n",
    "        \n",
    "    except Exception as e:\n",
    "        print('%s %s' % (path, e))\n",
    "\n",
    "\n",
    "#print(pytesseract.image_to_boxes(Image.open('new.jpg')))"
   ]
  },
  {
   "cell_type": "code",
   "execution_count": 5,
   "metadata": {},
   "outputs": [],
   "source": [
    "#comand line image processing for character sharpening\n",
    "!convert -fuzz 30% -fill \"#ffffff\" -opaque \"#f2f2f2\" 2.jpg t6_1.png"
   ]
  },
  {
   "cell_type": "code",
   "execution_count": 6,
   "metadata": {},
   "outputs": [
    {
     "name": "stdout",
     "output_type": "stream",
     "text": [
      "Issued at:\n",
      "\n",
      "Thornhill P and R\n",
      "Boarding stage: ~~” THORNHILL\n",
      "\n",
      "Valid to: x HEATHROW\n",
      "\n",
      "Expiry:\n",
      "\n",
      "FAO IK 349\n",
      "Customer services\n"
     ]
    }
   ],
   "source": [
    "try:\n",
    "    from PIL import Image\n",
    "except ImportError:\n",
    "    import Image\n",
    "import pytesseract\n",
    "\n",
    "path =\"/home/ravi/programs/OCR/imagemagick_test/t6_1.png\"\n",
    "\n",
    "# If you don't have tesseract executable in your PATH, include the following:\n",
    "#pytesseract.pytesseract.tesseract_cmd = r'<full_path_to_your_tesseract_executable>'\n",
    "# Example tesseract_cmd = r'C:\\Program Files (x86)\\Tesseract-OCR\\tesseract'\n",
    "\n",
    "# Simple image to string\n",
    "print(pytesseract.image_to_string(Image.open(path)))\n",
    "\n"
   ]
  },
  {
   "cell_type": "code",
   "execution_count": null,
   "metadata": {},
   "outputs": [],
   "source": [
    "# French text image to string\n",
    "print(pytesseract.image_to_string(Image.open(path), lang='fra'))\n",
    "\n",
    "# Get bounding box estimates\n",
    "print(pytesseract.image_to_boxes(Image.open(path)))\n",
    "\n",
    "# Get verbose data including boxes, confidences, line and page numbers\n",
    "print(pytesseract.image_to_data(Image.open(path)))\n",
    "\n",
    "# Get information about orientation and script detection\n",
    "print(pytesseract.image_to_osd(Image.open(path)))\n",
    "\n",
    "# In order to bypass the internal image conversions, just use relative or absolute image path\n",
    "# NOTE: If you don't use supported images, tesseract will return error\n",
    "print(pytesseract.image_to_string(path))\n",
    "\n",
    "# get a searchable PDF\n",
    "pdf = pytesseract.image_to_pdf_or_hocr(path, extension='pdf')\n",
    "\n",
    "# get HOCR output\n",
    "hocr = pytesseract.image_to_pdf_or_hocr(path, extension='hocr')"
   ]
  },
  {
   "cell_type": "code",
   "execution_count": null,
   "metadata": {},
   "outputs": [],
   "source": []
  }
 ],
 "metadata": {
  "kernelspec": {
   "display_name": "Python 3",
   "language": "python",
   "name": "python3"
  },
  "language_info": {
   "codemirror_mode": {
    "name": "ipython",
    "version": 3
   },
   "file_extension": ".py",
   "mimetype": "text/x-python",
   "name": "python",
   "nbconvert_exporter": "python",
   "pygments_lexer": "ipython3",
   "version": "3.6.8"
  }
 },
 "nbformat": 4,
 "nbformat_minor": 2
}
